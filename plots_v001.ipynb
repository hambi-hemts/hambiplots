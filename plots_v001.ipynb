{
 "cells": [
  {
   "cell_type": "markdown",
   "metadata": {},
   "source": [
    "# Intro "
   ]
  },
  {
   "cell_type": "markdown",
   "metadata": {},
   "source": [
    "This notebook generates the python module:\n",
    "\n",
    "    | plot_handling_v001\n",
    "    \n",
    "Features:\n",
    "\n",
    "If \n",
    "\n",
    "    glob_format = None\n",
    "    \n",
    "the generated plots behave in the Notebook as usual. \n",
    "If \n",
    "\n",
    "    glob_format = png \n",
    "    \n",
    "or the fileending in savefig_format(...) = '.png' \n",
    "the plot will be saved to a folder './png/'"
   ]
  },
  {
   "cell_type": "markdown",
   "metadata": {},
   "source": [
    "### Globals & Imports "
   ]
  },
  {
   "cell_type": "code",
   "execution_count": 37,
   "metadata": {
    "collapsed": false
   },
   "outputs": [
    {
     "name": "stdout",
     "output_type": "stream",
     "text": [
      "Overwriting plots_v001.py\n"
     ]
    }
   ],
   "source": [
    "%%writefile plots_v001.py\n",
    "\n",
    "import numpy as np\n",
    "#from matplotlib.pyplot import *\n",
    "#from matplotlib import *\n",
    "import matplotlib as mpl\n",
    "import matplotlib.pyplot as plt\n",
    "import numpy as np\n",
    "import glob \n",
    "import os\n",
    "\n",
    "png_backup = {key:plt.rcParams[key] for key in plt.rcParams}\n",
    "from hambi_plots import glob_format"
   ]
  },
  {
   "cell_type": "markdown",
   "metadata": {},
   "source": [
    "### Saving Functions for png, pdf, pgf "
   ]
  },
  {
   "cell_type": "code",
   "execution_count": 38,
   "metadata": {
    "collapsed": false
   },
   "outputs": [
    {
     "name": "stdout",
     "output_type": "stream",
     "text": [
      "Appending to plots_v001.py\n"
     ]
    }
   ],
   "source": [
    "%%writefile -a plots_v001.py\n",
    "\n",
    "def figsize_pgf(scale):\n",
    "    fig_width_pt = 417.473 #469.755                          # Get this from LaTeX using \\the\\textwidth\n",
    "    inches_per_pt = 1.0/72.27                       # Convert pt to inch\n",
    "    golden_mean = (np.sqrt(5.0)-1.0)/2.0            # Aesthetic ratio (you could change this)\n",
    "    fig_width = fig_width_pt*inches_per_pt*scale    # width in inches\n",
    "    fig_height = fig_width*golden_mean              # height in inches\n",
    "    fig_size = [fig_width,fig_height]\n",
    "    return fig_size\n",
    " \n",
    "pgf_with_latex = {                      # setup matplotlib to use latex for output\n",
    "    \"pgf.texsystem\": \"pdflatex\",        # change this if using xetex or lautex\n",
    "    \"text.usetex\": True,                # use LaTeX to write all text\n",
    "    \"font.family\": \"serif\",\n",
    "    \"font.serif\": [],                   # blank entries should cause plots to inherit fonts from the document\n",
    "    \"font.sans-serif\": [],\n",
    "    \"font.monospace\": [],\n",
    "    \"axes.labelsize\": 10,               # LaTeX default is 10pt font.\n",
    "    \"font.size\": 10,\n",
    "    \"legend.fontsize\": 8,               # Make the legend/label fonts a little smaller\n",
    "    \"xtick.labelsize\": 8,\n",
    "    \"ytick.labelsize\": 8,\n",
    "    \"figure.figsize\": figsize_pgf(0.6),     # default fig size of 0.6 textwidth\n",
    "    \"pgf.preamble\": [\n",
    "        r\"\\usepackage[utf8x]{inputenc}\",    # use utf8 fonts becasue your computer can handle it :)\n",
    "        r\"\\usepackage[T1]{fontenc}\",        # plots will be generated using this preamble\n",
    "        ]\n",
    "    }\n",
    "\n",
    "def set_format(x):\n",
    "    \"\"\" Choose a format from \n",
    "    .png  .pdf  .pgf \"\"\"\n",
    "    global glob_format, png_backup\n",
    "    glob_format = x\n",
    "    if x == 'pgf' or x == 'pdf':\n",
    "        mpl.rcParams.update(pgf_with_latex)\n",
    "        png_backup = {key:plt.rcParams[key] for key in plt.rcParams}\n",
    "    elif x == 'png':\n",
    "        mpl.rcParams.update(png_backup)\n",
    " \n",
    "def savefig_format(filename, \n",
    "                   pgf_width=None, \n",
    "                   bbox_inches = 'tight', \n",
    "                   dpi = 240):\n",
    "    \n",
    "    #####\n",
    "    ### if the filename containes the format, check consistency with the currently set format:\n",
    "    #####\n",
    "    \n",
    "    global glob_format\n",
    "    \n",
    "    if filename[-4] == '.':\n",
    "        \n",
    "        desired_format = filename[-3:]\n",
    "        filename = filename[:-4]\n",
    "        if glob_format != desired_format:\n",
    "            set_format(desired_format)\n",
    "            print \"Changed output format to \", desired_format\n",
    "    \n",
    "    #####\n",
    "    ### check if a folder for the respective format exists:\n",
    "    #####\n",
    "    \n",
    "    if '.\\\\'+glob_format in glob.glob('./*'):\n",
    "        pass\n",
    "    else: \n",
    "        os.makedirs(glob_format)\n",
    "    \n",
    "    #####\n",
    "    ### save the figure:\n",
    "    #####\n",
    "    \n",
    "    fig = plt.gcf()\n",
    "    \n",
    "    if glob_format:\n",
    "        \n",
    "        if glob_format == 'pgf':\n",
    "            if pgf_width: width = pgf_width\n",
    "            else: width = 0.65\n",
    "            fig.set_size_inches(figsize_pgf(width))\n",
    "            \n",
    "        saveto = './'+glob_format+'/{}.'.format(filename)+glob_format\n",
    "        plt.savefig(saveto,\n",
    "               bbox_inches = bbox_inches,\n",
    "                dpi = dpi)\n",
    "        \n",
    "    else: \n",
    "        pass\n"
   ]
  },
  {
   "cell_type": "markdown",
   "metadata": {},
   "source": [
    "### Data-manipulating functions "
   ]
  },
  {
   "cell_type": "code",
   "execution_count": 39,
   "metadata": {
    "collapsed": false
   },
   "outputs": [
    {
     "name": "stdout",
     "output_type": "stream",
     "text": [
      "Appending to plots_v001.py\n"
     ]
    }
   ],
   "source": [
    "%%writefile -a plots_v001.py\n",
    "\n",
    "def get_std_X_YLOW_YUP(xvals, yvals):\n",
    "\n",
    "    xvals = array(xvals)\n",
    "    yvals = array(yvals)\n",
    "\n",
    "    Y1 = [] \n",
    "    Y2 = []\n",
    "\n",
    "    X = sorted(set(xvals))\n",
    "\n",
    "    for xv in X:\n",
    "        IND = argwhere(xvals == xv)\n",
    "        avg = mean(yvals[IND])\n",
    "        stdd = np.std(yvals[IND])\n",
    "\n",
    "        Y1 += [avg-stdd]\n",
    "        Y2 += [avg+stdd] \n",
    "    \n",
    "    return X, Y1, Y2"
   ]
  },
  {
   "cell_type": "code",
   "execution_count": null,
   "metadata": {
    "collapsed": true
   },
   "outputs": [],
   "source": []
  },
  {
   "cell_type": "code",
   "execution_count": null,
   "metadata": {
    "collapsed": true
   },
   "outputs": [],
   "source": []
  },
  {
   "cell_type": "code",
   "execution_count": null,
   "metadata": {
    "collapsed": true
   },
   "outputs": [],
   "source": []
  }
 ],
 "metadata": {
  "kernelspec": {
   "display_name": "Python 2",
   "language": "python",
   "name": "python2"
  },
  "language_info": {
   "codemirror_mode": {
    "name": "ipython",
    "version": 2
   },
   "file_extension": ".py",
   "mimetype": "text/x-python",
   "name": "python",
   "nbconvert_exporter": "python",
   "pygments_lexer": "ipython2",
   "version": "2.7.9"
  }
 },
 "nbformat": 4,
 "nbformat_minor": 0
}
